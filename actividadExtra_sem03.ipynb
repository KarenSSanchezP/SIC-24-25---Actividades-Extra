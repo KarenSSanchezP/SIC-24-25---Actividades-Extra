{
 "cells": [
  {
   "cell_type": "markdown",
   "metadata": {},
   "source": [
    "## Actividad Extra - Semana 3\n",
    "##### (Puntos extra sobre quizz y actividad asíncrona)\n",
    "*Hecho por: Karen Stefany Sánchez Pocasangre*\n",
    "* Desarrollar la clase Director con sus respectivos metodos encapsulados para trabajar con los atributos: **nombre** y **posición**\n",
    "* Desarrollar la clase Empleado con sus respectivos metodos encapsulados para trabajar con los atributos: **nombre** y **id**\n"
   ]
  },
  {
   "cell_type": "code",
   "execution_count": 2,
   "metadata": {},
   "outputs": [],
   "source": [
    "class Persona:\n",
    "    #Inicializador\n",
    "    def __init__(self, nombre):\n",
    "        self.__nombre = nombre\n",
    "    # Get y Set del atributo nombre\n",
    "    def get_nombre(self):\n",
    "        return self.__nombre\n",
    "    def set_nombre(self, nombre):\n",
    "        self.__nombre = nombre\n",
    "    \n",
    "class Director(Persona):\n",
    "    #Inicializador\n",
    "    def __init__(self, nombre, posicion):\n",
    "        super().__init__(nombre)\n",
    "        self.__posicion = posicion\n",
    "    # Get y Set del atributo nombre\n",
    "    def get_nombre(self):\n",
    "        return super().get_nombre()\n",
    "    def set_nombre(self, nombre):\n",
    "        return super().set_nombre(nombre)\n",
    "    # Get y Set del atributo posicion\n",
    "    def get_posicion(self):\n",
    "        return self.__posicion\n",
    "    def set_posicion(self, posicion):\n",
    "        self.__posicion = posicion\n",
    "    \n",
    "class Empleado(Persona):\n",
    "    #Inicializador\n",
    "    def __init__(self, nombre, id):\n",
    "        super().__init__(nombre)\n",
    "        self.__id = id\n",
    "    # Get y Set del atributo nombre\n",
    "    def get_nombre(self):\n",
    "        return super().get_nombre()\n",
    "    def set_nombre(self, nombre):\n",
    "        return super().set_nombre(nombre)\n",
    "    # Get y Set del atributo id\n",
    "    def get_id(self):\n",
    "        return self.__id\n",
    "    def set_id(self, id):\n",
    "        self.__id = id"
   ]
  }
 ],
 "metadata": {
  "kernelspec": {
   "display_name": "Python 3",
   "language": "python",
   "name": "python3"
  },
  "language_info": {
   "codemirror_mode": {
    "name": "ipython",
    "version": 3
   },
   "file_extension": ".py",
   "mimetype": "text/x-python",
   "name": "python",
   "nbconvert_exporter": "python",
   "pygments_lexer": "ipython3",
   "version": "3.12.2"
  }
 },
 "nbformat": 4,
 "nbformat_minor": 2
}
