{
 "cells": [
  {
   "cell_type": "markdown",
   "metadata": {},
   "source": [
    "## Actividad Extra 2 - Semana 4\n",
    "##### (Puntos extra sobre quizz y actividad asíncrona)\n",
    "*Hecho por: Karen Stefany Sánchez Pocasangre*\n",
    "* Desarrollar la clase Director con sus respectivos metodos encapsulados para trabajar con los atributos: **nombre** y **posición**\n",
    "* Desarrollar la clase Empleado con sus respectivos metodos encapsulados para trabajar con los atributos: **nombre** y **id**\n",
    "* Realizar pruebas con el uso de los métodos de las clases: **Persona**, **Director** y **Empleado**"
   ]
  },
  {
   "cell_type": "code",
   "execution_count": 42,
   "metadata": {},
   "outputs": [
    {
     "name": "stdout",
     "output_type": "stream",
     "text": [
      "------------------------------\n",
      "Persona:\n",
      "Karla Estrada\n",
      "Carmen Estrada\n",
      "------------------------------\n",
      "Director:\n",
      "Marcos Nuñez, posicion: 5\n",
      "Marcos Guerra, posicion: 1\n",
      "------------------------------\n",
      "Empleados:\n",
      "0103 Alvaro Ortiz \n",
      "0119 Martha Sosa\n",
      "0117 Margarita Pérez de Ruiz\n"
     ]
    }
   ],
   "source": [
    "# ---------------------- Creación de Clases ---------------------- #\n",
    "class Persona:\n",
    "    #Inicializador\n",
    "    def __init__(self, nombre):\n",
    "        self.__nombre = nombre\n",
    "    # Get y Set del atributo nombre\n",
    "    def get_nombre(self):\n",
    "        return self.__nombre\n",
    "    def set_nombre(self, nombre):\n",
    "        self.__nombre = nombre\n",
    "    \n",
    "class Director(Persona):\n",
    "    #Inicializador\n",
    "    def __init__(self, nombre, posicion):\n",
    "        super().__init__(nombre)\n",
    "        self.__posicion = posicion\n",
    "    # Get y Set del atributo nombre\n",
    "    def get_nombre(self):\n",
    "        return super().get_nombre()\n",
    "    def set_nombre(self, nombre):\n",
    "        return super().set_nombre(nombre)\n",
    "    # Get y Set del atributo posicion\n",
    "    def get_posicion(self):\n",
    "        return self.__posicion\n",
    "    def set_posicion(self, posicion):\n",
    "        self.__posicion = posicion\n",
    "    \n",
    "class Empleado(Persona):\n",
    "    #Inicializador\n",
    "    def __init__(self, nombre, id):\n",
    "        super().__init__(nombre)\n",
    "        self.__id = id\n",
    "    # Get y Set del atributo nombre\n",
    "    def get_nombre(self):\n",
    "        return super().get_nombre()\n",
    "    def set_nombre(self, nombre):\n",
    "        return super().set_nombre(nombre)\n",
    "    # Get y Set del atributo id\n",
    "    def get_id(self):\n",
    "        return self.__id\n",
    "    def set_id(self, id):\n",
    "        self.__id = id\n",
    "\n",
    "# ---------------------------------------- Pruebas de Métodos ---------------------------------------- #\n",
    "#Instanciando objetos de las clases Persona, Director y Empleado\n",
    "persona1 = Persona(\"Karla Estrada\")\n",
    "director1 = Director(\"Marcos Nuñez\", 5)\n",
    "empleado1 = Empleado(\"Alvaro Ortiz\", \"0103\")\n",
    "empleado2 = Empleado(\"Martha Sosa\", \"0119\")\n",
    "\n",
    "#Probando métodos con objeto persona1\n",
    "print(\"-\" * 30 + \"\\n\" + \"Persona:\")\n",
    "print(persona1.get_nombre()); persona1.set_nombre(\"Carmen Estrada\")\n",
    "print(persona1.get_nombre())\n",
    "\n",
    "#Probando métodos con objeto director1\n",
    "print(\"-\" * 30 + \"\\n\" + \"Director:\")\n",
    "print(director1.get_nombre() + \", posicion:\", director1.get_posicion())\n",
    "director1.set_posicion(1); director1.set_nombre(\"Marcos Guerra\")\n",
    "print(director1.get_nombre() + \", posicion:\", director1.get_posicion())\n",
    "\n",
    "#Probando métodos con objetos empleado1 y empleado2\n",
    "print(\"-\" * 30 + \"\\n\" + \"Empleados:\")\n",
    "print(empleado1.get_id(), empleado1.get_nombre(), \"\\n\" + empleado2.get_id(), empleado2.get_nombre())\n",
    "empleado2.set_id(\"0117\"); empleado2.set_nombre(\"Margarita Pérez de Ruiz\")\n",
    "print(empleado2.get_id(), empleado2.get_nombre())\n"
   ]
  }
 ],
 "metadata": {
  "kernelspec": {
   "display_name": "Python 3",
   "language": "python",
   "name": "python3"
  },
  "language_info": {
   "codemirror_mode": {
    "name": "ipython",
    "version": 3
   },
   "file_extension": ".py",
   "mimetype": "text/x-python",
   "name": "python",
   "nbconvert_exporter": "python",
   "pygments_lexer": "ipython3",
   "version": "3.12.2"
  }
 },
 "nbformat": 4,
 "nbformat_minor": 2
}
